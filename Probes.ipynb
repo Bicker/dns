{
 "cells": [
  {
   "cell_type": "code",
   "execution_count": null,
   "metadata": {
    "collapsed": true
   },
   "outputs": [],
   "source": [
    "# TODO get probes\n",
    "nnodes = 15\n",
    "payload_probes = payload.copy()\n",
    "payload_probes['definitions'].append(definition)\n",
    "payload_probes['probes'] = [\n",
    "    {\n",
    "        \"type\":\"area\",\n",
    "        \"value\":\"West\",\n",
    "        \"requested\":nnodes\n",
    "    },\n",
    "    {\n",
    "        \"type\":\"area\",\n",
    "        \"value\":\"North-Central\",\n",
    "        \"requested\":nnodes\n",
    "    },\n",
    "    {\n",
    "        \"type\":\"area\",\n",
    "        \"value\":\"South-Central\",\n",
    "        \"requested\":nnodes\n",
    "    },\n",
    "    {\n",
    "        \"type\":\"area\",\n",
    "        \"value\":\"North-East\",\n",
    "        \"requested\":nnodes\n",
    "    },\n",
    "    {\n",
    "        \"type\":\"area\",\n",
    "        \"value\":\"South-East\",\n",
    "        \"requested\":nnodes\n",
    "    },\n",
    "]\n",
    "\n",
    "url = url_dns_measurements_create + '?key=' + atlas_api_key\n",
    "probe_measurement = requests.post(url, data = json.dumps(payload_probes), headers = headers)"
   ]
  },
  {
   "cell_type": "code",
   "execution_count": null,
   "metadata": {
    "collapsed": true
   },
   "outputs": [],
   "source": [
    "results = [requests.get(url_dns_measurements_get + '?id__in=' + str(id)) for id in probe_measurement.json()]"
   ]
  },
  {
   "cell_type": "code",
   "execution_count": null,
   "metadata": {
    "collapsed": true
   },
   "outputs": [],
   "source": [
    "probe_ids = []\n",
    "\n",
    "for result in results:\n",
    "    for res in result.json()['results']:\n",
    "        r = requests.get(res['result'])\n",
    "    \n",
    "        for i in r.json():\n",
    "            probe_ids.append(i['prb_id'])"
   ]
  },
  {
   "cell_type": "code",
   "execution_count": null,
   "metadata": {
    "collapsed": true
   },
   "outputs": [],
   "source": [
    "not_working = [13263,28836,29339,19434,25975,14812,20933,22789,25016,16491]\n",
    "new = [19634,6025,11660,22388,25182,3821,3812,20923,14384,12389]\n",
    "\n",
    "print(len(probe_ids))\n",
    "\n",
    "for id in not_working:\n",
    "    probe_ids.remove(id)\n",
    "\n",
    "print(len(probe_ids))\n",
    "\n",
    "for id in new:\n",
    "    probe_ids.append(id)\n",
    "\n",
    "print(len(probe_ids))\n",
    "\n",
    "            \n",
    "probes = [\n",
    "    {\n",
    "        \"value\": str(probe_ids)[1:-1],\n",
    "        \"type\": \"probes\",\n",
    "        \"requested\": len(probe_ids)\n",
    "    }\n",
    "]"
   ]
  },
  {
   "cell_type": "code",
   "execution_count": null,
   "metadata": {
    "collapsed": true
   },
   "outputs": [],
   "source": [
    "# test\n",
    "payload_test = payload.copy()\n",
    "\n",
    "for item in data:\n",
    "    def_copy = definition.copy()\n",
    "    def_copy['query_type'] = \"SOA\"\n",
    "    def_copy['query_argument'] = item['domain']\n",
    "    def_copy['description'] = item['tld'] + ' test measurement'\n",
    "    \n",
    "    payload_test['definitions'].append(def_copy)\n",
    "    payload_test['probes'] = probes\n",
    "    \n",
    "# url = url_dns_measurements_create + '?key=' + atlas_api_key\n",
    "# measurement_ids = requests.post(url, data = json.dumps(payload), headers = headers)"
   ]
  },
  {
   "cell_type": "code",
   "execution_count": null,
   "metadata": {
    "collapsed": true
   },
   "outputs": [],
   "source": [
    "url = url_dns_measurements_create + '?key=' + atlas_api_key\n",
    "test_measurement_idsement_ids = requests.post(url, data = json.dumps(payload_test), headers = headers)"
   ]
  }
 ],
 "metadata": {
  "kernelspec": {
   "display_name": "Python 3",
   "language": "python",
   "name": "python3"
  },
  "language_info": {
   "codemirror_mode": {
    "name": "ipython",
    "version": 3
   },
   "file_extension": ".py",
   "mimetype": "text/x-python",
   "name": "python",
   "nbconvert_exporter": "python",
   "pygments_lexer": "ipython3",
   "version": "3.6.1"
  }
 },
 "nbformat": 4,
 "nbformat_minor": 2
}
