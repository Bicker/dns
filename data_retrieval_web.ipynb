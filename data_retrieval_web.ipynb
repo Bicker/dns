{
 "cells": [
  {
   "cell_type": "code",
   "execution_count": 1,
   "metadata": {
    "collapsed": true
   },
   "outputs": [],
   "source": [
    "from sortedcontainers import SortedDict\n",
    "from urllib.request import urlopen\n",
    "from bs4 import BeautifulSoup\n",
    "from pprint import pprint\n",
    "\n",
    "import pandas as pd\n",
    "import numpy as np\n",
    "import matplotlib as plt\n",
    "\n",
    "import json\n",
    "\n",
    "%matplotlib inline"
   ]
  },
  {
   "cell_type": "code",
   "execution_count": 2,
   "metadata": {
    "collapsed": true
   },
   "outputs": [],
   "source": [
    "data = []"
   ]
  },
  {
   "cell_type": "code",
   "execution_count": 3,
   "metadata": {
    "collapsed": true
   },
   "outputs": [],
   "source": [
    "d = SortedDict()\n",
    "\n",
    "with open('data/root.zone') as f:\n",
    "    for i in range(21):\n",
    "        next(f)\n",
    "        \n",
    "    for line in f:\n",
    "        values = line.split('\\t')\n",
    "        if 'NS' in values:\n",
    "            tld = values[0][:-1]\n",
    "            ns = values[-1][:-2]\n",
    "            if tld in d:\n",
    "                d[tld].append(ns)\n",
    "            else:\n",
    "                d[tld] = [ns]"
   ]
  },
  {
   "cell_type": "code",
   "execution_count": 4,
   "metadata": {
    "collapsed": true
   },
   "outputs": [],
   "source": [
    "f = open('test.csv', 'w')\n",
    "f.write('tld,ns\\n')\n",
    "for i in d:\n",
    "    for j in d[i]:\n",
    "        f.write(i + ',' + j + '\\n')\n",
    "        \n",
    "f.close()"
   ]
  },
  {
   "cell_type": "code",
   "execution_count": null,
   "metadata": {
    "collapsed": true
   },
   "outputs": [],
   "source": [
    "df = pd.read_csv(\"test.csv\")\n",
    "df2 = df.groupby('tld')['ns'].nunique()\n",
    "df2.head()"
   ]
  },
  {
   "cell_type": "code",
   "execution_count": 5,
   "metadata": {
    "collapsed": true
   },
   "outputs": [],
   "source": [
    "url = \"https://www.iana.org/domains/root/db/\"\n",
    "html = urlopen(url)\n",
    "soup = BeautifulSoup(html, 'html5lib')\n",
    "\n",
    "for item in soup.find_all(attrs={'class': 'iana-table'}):\n",
    "    for table in soup.find_all(attrs={'class': 'iana-table'}):\n",
    "        values = [td.get_text(strip=True) for td in table.find_all('td')]\n",
    "\n",
    "        for i in range(0, len(values), 3):\n",
    "            data.append({'tld': values[i].strip('.'), 'type': values[i + 1], 'organisation': values[i + 2]})"
   ]
  },
  {
   "cell_type": "code",
   "execution_count": 9,
   "metadata": {},
   "outputs": [],
   "source": [
    "df = pd.DataFrame(data)\n",
    "\n",
    "with open('data/tld_type', 'w') as f:\n",
    "    f.write(json.dumps(data))"
   ]
  },
  {
   "cell_type": "code",
   "execution_count": null,
   "metadata": {
    "collapsed": true
   },
   "outputs": [],
   "source": [
    "for tld in data:\n",
    "    data[tld]['nameservers'] = SortedDict()\n",
    "    html = urlopen(url + tld)\n",
    "    soup = BeautifulSoup(html, 'html5lib')\n",
    "\n",
    "    for br in soup.find_all('br'):\n",
    "        br.replace_with('\\t')\n",
    "\n",
    "    for item in soup.find_all(attrs={'class': 'iana-table'}):\n",
    "        for table in soup.find_all(attrs={'class': 'iana-table'}):\n",
    "            values = [td.get_text(strip=False) for td in table.find_all('td')]\n",
    "            \n",
    "            print(values[1].split('\\t')[:-1])\n",
    "\n",
    "            for i in range(0, len(values), 2):\n",
    "                ips = values[i + 1].split('\\t')\n",
    "                \n",
    "                data[tld]['nameservers'][values[i]] = SortedDict()\n",
    "                \n",
    "                if '.' in ips[0]:\n",
    "                    data[tld]['nameservers'][values[i]]['ipv4'] = ips[0]\n",
    "                elif '.' in ips[1]:\n",
    "                    data[tld]['nameservers'][values[i]]['ipv4'] = ips[1]\n",
    "                    \n",
    "                if 'nameservers' in data[tld]:\n",
    "                    data[tld]['nameservers'].append((values[i], values[i + 1].split('\\t')))\n",
    "                else:\n",
    "                    data[tld]['nameservers'] = [(values[i], values[i + 1].split('\\t'))]"
   ]
  },
  {
   "cell_type": "code",
   "execution_count": 5,
   "metadata": {
    "collapsed": true
   },
   "outputs": [],
   "source": [
    "df = pd.DataFrame(data)"
   ]
  },
  {
   "cell_type": "code",
   "execution_count": 72,
   "metadata": {},
   "outputs": [
    {
     "data": {
      "text/html": [
       "<div>\n",
       "<table border=\"1\" class=\"dataframe\">\n",
       "  <thead>\n",
       "    <tr style=\"text-align: right;\">\n",
       "      <th></th>\n",
       "      <th>count</th>\n",
       "    </tr>\n",
       "    <tr>\n",
       "      <th>organisation</th>\n",
       "      <th></th>\n",
       "    </tr>\n",
       "  </thead>\n",
       "  <tbody>\n",
       "    <tr>\n",
       "      <th>Amazon Registry Services, Inc.</th>\n",
       "      <td>51</td>\n",
       "    </tr>\n",
       "    <tr>\n",
       "      <th>Charleston Road Registry Inc.</th>\n",
       "      <td>43</td>\n",
       "    </tr>\n",
       "    <tr>\n",
       "      <th>Uniregistry, Corp.</th>\n",
       "      <td>22</td>\n",
       "    </tr>\n",
       "    <tr>\n",
       "      <th>United TLD Holdco Ltd.</th>\n",
       "      <td>22</td>\n",
       "    </tr>\n",
       "    <tr>\n",
       "      <th>Top Level Domain Holdings Limited</th>\n",
       "      <td>18</td>\n",
       "    </tr>\n",
       "    <tr>\n",
       "      <th>Afilias plc</th>\n",
       "      <td>14</td>\n",
       "    </tr>\n",
       "    <tr>\n",
       "      <th>Not assigned</th>\n",
       "      <td>14</td>\n",
       "    </tr>\n",
       "    <tr>\n",
       "      <th>Internet Assigned Numbers Authority</th>\n",
       "      <td>12</td>\n",
       "    </tr>\n",
       "    <tr>\n",
       "      <th>Lifestyle Domain Holdings, Inc.</th>\n",
       "      <td>11</td>\n",
       "    </tr>\n",
       "    <tr>\n",
       "      <th>Dish DBS Corporation</th>\n",
       "      <td>11</td>\n",
       "    </tr>\n",
       "  </tbody>\n",
       "</table>\n",
       "</div>"
      ],
      "text/plain": [
       "                                     count\n",
       "organisation                              \n",
       "Amazon Registry Services, Inc.          51\n",
       "Charleston Road Registry Inc.           43\n",
       "Uniregistry, Corp.                      22\n",
       "United TLD Holdco Ltd.                  22\n",
       "Top Level Domain Holdings Limited       18\n",
       "Afilias plc                             14\n",
       "Not assigned                            14\n",
       "Internet Assigned Numbers Authority     12\n",
       "Lifestyle Domain Holdings, Inc.         11\n",
       "Dish DBS Corporation                    11"
      ]
     },
     "execution_count": 72,
     "metadata": {},
     "output_type": "execute_result"
    }
   ],
   "source": [
    "df.groupby('organisation')['tld'].agg(['count']).sort_values('count', ascending=False).head(10)"
   ]
  },
  {
   "cell_type": "code",
   "execution_count": 71,
   "metadata": {},
   "outputs": [
    {
     "data": {
      "image/png": "[encoded data removed]",
      "text/plain": [
       "<matplotlib.figure.Figure at 0x7f58a26e2be0>"
      ]
     },
     "metadata": {},
     "output_type": "display_data"
    }
   ],
   "source": [
    "plot = counts.head(15).plot.barh(figsize=(25,15))\n",
    "fig = plot.get_figure()\n",
    "fig.savefig(\"imgs/tld_orgs.png\")"
   ]
  },
  {
   "cell_type": "code",
   "execution_count": 7,
   "metadata": {
    "collapsed": true
   },
   "outputs": [],
   "source": [
    "df.to_csv('temp.csv')"
   ]
  },
  {
   "cell_type": "code",
   "execution_count": null,
   "metadata": {
    "collapsed": true
   },
   "outputs": [],
   "source": []
  }
 ],
 "metadata": {
  "kernelspec": {
   "display_name": "Python 3",
   "language": "python",
   "name": "python3"
  },
  "language_info": {
   "codemirror_mode": {
    "name": "ipython",
    "version": 3
   },
   "file_extension": ".py",
   "mimetype": "text/x-python",
   "name": "python",
   "nbconvert_exporter": "python",
   "pygments_lexer": "ipython3",
   "version": "3.6.1"
  }
 },
 "nbformat": 4,
 "nbformat_minor": 2
}
