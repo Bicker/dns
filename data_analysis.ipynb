{
 "cells": [
  {
   "cell_type": "code",
   "execution_count": 225,
   "metadata": {
    "collapsed": true
   },
   "outputs": [],
   "source": [
    "from socket import error as socket_error\n",
    "from urllib.request import urlopen\n",
    "from dns.query import udp, tcp\n",
    "from bs4 import BeautifulSoup\n",
    "from dns.resolver import dns\n",
    "from uuid import uuid4\n",
    "from tqdm import tqdm\n",
    "\n",
    "import pandas as pd\n",
    "import numpy as np\n",
    "import matplotlib as plt\n",
    "\n",
    "import subprocess\n",
    "import socket\n",
    "import copy\n",
    "import time\n",
    "import json\n",
    "import csv\n",
    "import os\n",
    "\n",
    "%matplotlib inline"
   ]
  },
  {
   "cell_type": "code",
   "execution_count": 209,
   "metadata": {
    "collapsed": true
   },
   "outputs": [],
   "source": [
    "pie = (6, 6)"
   ]
  },
  {
   "cell_type": "code",
   "execution_count": 2,
   "metadata": {
    "collapsed": true
   },
   "outputs": [],
   "source": [
    "def write_list(fn, data):\n",
    "    '''Writes a list to a file with each value on a new line'''\n",
    "    with open(fn, 'w') as f:\n",
    "        for datum in data:\n",
    "            f.write(datum + newline)\n",
    "        \n",
    "def append_list(fn, data):\n",
    "    '''Appends a list to a file with each value on a new line'''\n",
    "    with open(fn, 'a') as f:\n",
    "        for datum in data:\n",
    "            f.write(datum + newline)\n",
    "    \n",
    "def read_list(fn):\n",
    "    '''Reads a file and '''\n",
    "    with open(fn, 'r') as f:\n",
    "        return [line.strip(newline) for line in f]\n",
    "    \n",
    "def write_json(fn, data):\n",
    "    with open(fn, 'w') as f:\n",
    "        f.write(json.dumps(data))\n",
    "            \n",
    "def read_json(fn):\n",
    "    '''Read a json file (fn) and returns it as a dictionary'''\n",
    "    with open(fn, 'r') as f:\n",
    "        return json.loads(f.read())"
   ]
  },
  {
   "cell_type": "markdown",
   "metadata": {},
   "source": [
    "# Top-Level Domains"
   ]
  },
  {
   "cell_type": "code",
   "execution_count": 172,
   "metadata": {
    "collapsed": true
   },
   "outputs": [],
   "source": [
    "data_tlds = read_json('data/data_tlds.json')"
   ]
  },
  {
   "cell_type": "code",
   "execution_count": 173,
   "metadata": {},
   "outputs": [
    {
     "data": {
      "image/png": "[encoded data removed]",
      "text/plain": [
       "<matplotlib.figure.Figure at 0x7fe5ba4b0320>"
      ]
     },
     "metadata": {},
     "output_type": "display_data"
    }
   ],
   "source": [
    "df_tlds = pd.DataFrame(data_tlds)\n",
    "df_tlds['creation_date'] = pd.to_datetime(df_tlds['creation_date'])\n",
    "ax = df_tlds.creation_date.value_counts().sort_index().cumsum().plot()\n",
    "ax.set_xlabel(\"Year\")\n",
    "ax.set_ylabel('Number of TLDs')\n",
    "fig = ax.get_figure()\n",
    "fig.savefig(\"imgs/tld_growth.pdf\")"
   ]
  },
  {
   "cell_type": "code",
   "execution_count": 259,
   "metadata": {},
   "outputs": [
    {
     "data": {
      "text/html": [
       "<div>\n",
       "<table border=\"1\" class=\"dataframe\">\n",
       "  <thead>\n",
       "    <tr style=\"text-align: right;\">\n",
       "      <th></th>\n",
       "      <th>creation_date</th>\n",
       "      <th>organisations</th>\n",
       "      <th>tld</th>\n",
       "    </tr>\n",
       "  </thead>\n",
       "  <tbody>\n",
       "    <tr>\n",
       "      <th>0</th>\n",
       "      <td>2015-08-13</td>\n",
       "      <td>[ American Automobile Association, Inc.,  Mark...</td>\n",
       "      <td>AAA</td>\n",
       "    </tr>\n",
       "    <tr>\n",
       "      <th>1</th>\n",
       "      <td>2015-10-22</td>\n",
       "      <td>[ AARP,  FairWinds Partners, LLC,  Verisign, I...</td>\n",
       "      <td>AARP</td>\n",
       "    </tr>\n",
       "    <tr>\n",
       "      <th>2</th>\n",
       "      <td>2016-07-14</td>\n",
       "      <td>[ Fiat Chrysler Automobiles N.V.,  FCA Italy S...</td>\n",
       "      <td>ABARTH</td>\n",
       "    </tr>\n",
       "    <tr>\n",
       "      <th>3</th>\n",
       "      <td>2015-04-09</td>\n",
       "      <td>[ ABB Ltd,  ABB Schweiz AG,  Verisign, Inc.]</td>\n",
       "      <td>ABB</td>\n",
       "    </tr>\n",
       "    <tr>\n",
       "      <th>4</th>\n",
       "      <td>2014-11-20</td>\n",
       "      <td>[ Abbott Laboratories, Inc.,  FairWinds Partne...</td>\n",
       "      <td>ABBOTT</td>\n",
       "    </tr>\n",
       "  </tbody>\n",
       "</table>\n",
       "</div>"
      ],
      "text/plain": [
       "  creation_date                                      organisations     tld\n",
       "0    2015-08-13  [ American Automobile Association, Inc.,  Mark...     AAA\n",
       "1    2015-10-22  [ AARP,  FairWinds Partners, LLC,  Verisign, I...    AARP\n",
       "2    2016-07-14  [ Fiat Chrysler Automobiles N.V.,  FCA Italy S...  ABARTH\n",
       "3    2015-04-09       [ ABB Ltd,  ABB Schweiz AG,  Verisign, Inc.]     ABB\n",
       "4    2014-11-20  [ Abbott Laboratories, Inc.,  FairWinds Partne...  ABBOTT"
      ]
     },
     "execution_count": 259,
     "metadata": {},
     "output_type": "execute_result"
    }
   ],
   "source": [
    "df_tlds."
   ]
  },
  {
   "cell_type": "code",
   "execution_count": 196,
   "metadata": {
    "collapsed": true
   },
   "outputs": [],
   "source": [
    "new_tlds = df_tlds[(df_tlds.creation_date >= '2013-10-23')].tld\n",
    "old_tlds = df_tlds[(df_tlds.creation_date < '2013-10-23')].tld"
   ]
  },
  {
   "cell_type": "code",
   "execution_count": 197,
   "metadata": {
    "collapsed": true
   },
   "outputs": [],
   "source": [
    "tld_groups = {'all': df_tlds.tld, 'old': old_tlds, 'new': new_tlds}"
   ]
  },
  {
   "cell_type": "markdown",
   "metadata": {},
   "source": [
    "# Name Servers"
   ]
  },
  {
   "cell_type": "code",
   "execution_count": 175,
   "metadata": {
    "collapsed": true
   },
   "outputs": [],
   "source": [
    "data_nss = read_json('data/data_ns.json')"
   ]
  },
  {
   "cell_type": "code",
   "execution_count": 176,
   "metadata": {
    "collapsed": true
   },
   "outputs": [],
   "source": [
    "df_nss = pd.DataFrame(data_nss)\n",
    "maxc = df_nss.tld.value_counts().max()\n",
    "minc = df_nss.tld.value_counts().min()"
   ]
  },
  {
   "cell_type": "code",
   "execution_count": 177,
   "metadata": {},
   "outputs": [
    {
     "data": {
      "image/png": "[encoded data removed]",
      "text/plain": [
       "<matplotlib.figure.Figure at 0x7fe5b9a3ca20>"
      ]
     },
     "metadata": {},
     "output_type": "display_data"
    }
   ],
   "source": [
    "ax = df_nss.tld.value_counts().hist(bins = maxc - minc, range = (minc, maxc))\n",
    "ax.set_ylabel('Number of TLDs')\n",
    "ax.set_xlabel('Number of name servers per TLD')\n",
    "fig = ax.get_figure()\n",
    "fig.savefig(\"imgs/nss_per_tld.pdf\")"
   ]
  },
  {
   "cell_type": "code",
   "execution_count": 178,
   "metadata": {},
   "outputs": [
    {
     "data": {
      "image/png": "[encoded data removed]",
      "text/plain": [
       "<matplotlib.figure.Figure at 0x7fe5ba038ba8>"
      ]
     },
     "metadata": {},
     "output_type": "display_data"
    }
   ],
   "source": [
    "ax = df_nss[df_nss.tld.isin(new_tlds)].tld.value_counts().hist(bins = maxc - minc, range = (minc, maxc))\n",
    "ax.set_ylabel('Number of TLDs')\n",
    "ax.set_xlabel('Number of name servers per TLD')\n",
    "fig = ax.get_figure()\n",
    "fig.savefig(\"imgs/nss_per_tld_new.pdf\")"
   ]
  },
  {
   "cell_type": "code",
   "execution_count": 179,
   "metadata": {},
   "outputs": [
    {
     "data": {
      "image/png": "[encoded data removed]",
      "text/plain": [
       "<matplotlib.figure.Figure at 0x7fe5ba558ac8>"
      ]
     },
     "metadata": {},
     "output_type": "display_data"
    }
   ],
   "source": [
    "ax = df_nss[df_nss.tld.isin(old_tlds)].tld.value_counts().hist(bins = maxc - minc, range = (minc, maxc))\n",
    "ax.set_ylabel('Number of TLDs')\n",
    "ax.set_xlabel('Number of name servers per TLD')\n",
    "fig = ax.get_figure()\n",
    "fig.savefig(\"imgs/nss_per_tld_old.pdf\")"
   ]
  },
  {
   "cell_type": "markdown",
   "metadata": {},
   "source": [
    "# Network Diversity"
   ]
  },
  {
   "cell_type": "code",
   "execution_count": 185,
   "metadata": {},
   "outputs": [],
   "source": [
    "data_asns = read_json('data/data_asns.json')\n",
    "data_ips = read_json('data/data_ips.json')"
   ]
  },
  {
   "cell_type": "code",
   "execution_count": 186,
   "metadata": {},
   "outputs": [],
   "source": [
    "df_asns = pd.DataFrame(data_asns)"
   ]
  },
  {
   "cell_type": "code",
   "execution_count": 192,
   "metadata": {},
   "outputs": [],
   "source": [
    "maxc = df_asns.groupby('tld').asn.nunique().max()\n",
    "minc = df_asns.groupby('tld').asn.nunique().min()"
   ]
  },
  {
   "cell_type": "code",
   "execution_count": 193,
   "metadata": {},
   "outputs": [
    {
     "data": {
      "image/png": "[encoded data removed]",
      "text/plain": [
       "<matplotlib.figure.Figure at 0x7fe5b8113550>"
      ]
     },
     "metadata": {},
     "output_type": "display_data"
    }
   ],
   "source": [
    "ax = df_asns.groupby('tld').asn.nunique().hist(bins = maxc - minc, range = (minc, maxc))\n",
    "ax.set_ylabel('Number of TLDs')\n",
    "ax.set_xlabel('Number of ASs per TLD')\n",
    "fig = ax.get_figure()\n",
    "fig.savefig(\"imgs/asns_per_tld.pdf\")"
   ]
  },
  {
   "cell_type": "code",
   "execution_count": 194,
   "metadata": {},
   "outputs": [
    {
     "data": {
      "image/png": "[encoded data removed]",
      "text/plain": [
       "<matplotlib.figure.Figure at 0x7fe5b811acf8>"
      ]
     },
     "metadata": {},
     "output_type": "display_data"
    }
   ],
   "source": [
    "ax = df_asns[df_asns.tld.isin(new_tlds)].groupby('tld').asn.nunique().hist(bins = maxc - minc, range = (minc, maxc))\n",
    "ax.set_ylabel('Number of TLDs')\n",
    "ax.set_xlabel('Number of ASs per TLD')\n",
    "fig = ax.get_figure()\n",
    "fig.savefig(\"imgs/asns_per_tld_new.pdf\")"
   ]
  },
  {
   "cell_type": "code",
   "execution_count": 195,
   "metadata": {},
   "outputs": [
    {
     "data": {
      "image/png": "[encoded data removed]",
      "text/plain": [
       "<matplotlib.figure.Figure at 0x7fe5b9a3c550>"
      ]
     },
     "metadata": {},
     "output_type": "display_data"
    }
   ],
   "source": [
    "ax = df_asns[df_asns.tld.isin(old_tlds)].groupby('tld').asn.nunique().hist(bins = maxc - minc, range = (minc, maxc))\n",
    "ax.set_ylabel('Number of TLDs')\n",
    "ax.set_xlabel('Number of ASs per TLD')\n",
    "fig = ax.get_figure()\n",
    "fig.savefig(\"imgs/asns_per_tld_old.pdf\")"
   ]
  },
  {
   "cell_type": "code",
   "execution_count": 198,
   "metadata": {
    "collapsed": true
   },
   "outputs": [],
   "source": [
    "maxc = df_asns.groupby('asn').tld.nunique().max()\n",
    "minc = df_asns.groupby('asn').tld.nunique().min()"
   ]
  },
  {
   "cell_type": "code",
   "execution_count": 199,
   "metadata": {},
   "outputs": [
    {
     "data": {
      "image/png": "[encoded data removed]",
      "text/plain": [
       "<matplotlib.figure.Figure at 0x7fe5b9ba0d30>"
      ]
     },
     "metadata": {},
     "output_type": "display_data"
    }
   ],
   "source": [
    "ax = df_asns.groupby('asn').tld.nunique().hist(bins = int((maxc - minc) / 4), range=(minc, maxc))\n",
    "ax.set_yscale('log')\n",
    "ax.set_ylabel('Number of ASs')\n",
    "ax.set_xlabel('Number of TLDs per AS')\n",
    "fig = ax.get_figure()\n",
    "fig.savefig(\"imgs/tlds_per_asn.pdf\")"
   ]
  },
  {
   "cell_type": "code",
   "execution_count": 170,
   "metadata": {},
   "outputs": [
    {
     "data": {
      "image/png": "[encoded data removed]",
      "text/plain": [
       "<matplotlib.figure.Figure at 0x7fe5b97785c0>"
      ]
     },
     "metadata": {},
     "output_type": "display_data"
    }
   ],
   "source": [
    "ax = df_asns[df_asns.tld.isin(old_tlds)].groupby('asn').tld.nunique().hist(bins = int((maxc - minc) / 4),\n",
    "                                                                           range=(minc, maxc))\n",
    "ax.set_yscale('log')\n",
    "ax.set_ylabel('Number of ASs')\n",
    "ax.set_xlabel('Number of TLDs per AS')\n",
    "fig = ax.get_figure()\n",
    "fig.savefig(\"imgs/tlds_per_asn_old.pdf\")"
   ]
  },
  {
   "cell_type": "code",
   "execution_count": 200,
   "metadata": {},
   "outputs": [
    {
     "data": {
      "image/png": "[encoded data removed]",
      "text/plain": [
       "<matplotlib.figure.Figure at 0x7fe5b99facc0>"
      ]
     },
     "metadata": {},
     "output_type": "display_data"
    }
   ],
   "source": [
    "ax = df_asns[df_asns.tld.isin(new_tlds)].groupby('asn').tld.nunique().hist(bins = int((maxc - minc) / 4),\n",
    "                                                                           range=(minc, maxc))\n",
    "ax.set_yscale('log')\n",
    "ax.set_ylabel('Number of ASs')\n",
    "ax.set_xlabel('Number of TLDs per AS')\n",
    "fig = ax.get_figure()\n",
    "fig.savefig(\"imgs/tlds_per_asn_new.pdf\")"
   ]
  },
  {
   "cell_type": "markdown",
   "metadata": {},
   "source": [
    "# Credibility"
   ]
  },
  {
   "cell_type": "code",
   "execution_count": 215,
   "metadata": {},
   "outputs": [],
   "source": [
    "data_cred = read_json('data/data_cred.json')"
   ]
  },
  {
   "cell_type": "code",
   "execution_count": 227,
   "metadata": {},
   "outputs": [
    {
     "name": "stdout",
     "output_type": "stream",
     "text": [
      "--2017-06-14 14:20:12--  https://www.iana.org/assignments/dns-sec-alg-numbers/dns-sec-alg-numbers-1.csv\n",
      "Loaded CA certificate '/etc/ssl/certs/ca-certificates.crt'\n",
      "Resolving www.iana.org... 2620:0:2d0:200::8, 192.0.32.8\n",
      "Connecting to www.iana.org|2620:0:2d0:200::8|:443... connected.\n",
      "HTTP request sent, awaiting response... 200 OK\n",
      "Length: unspecified [text/csv]\n",
      "Saving to: ‘data/lists/dnssec_algorithm_numbers.csv’\n",
      "\n",
      "data/lists/dnssec_a     [ <=>                ]   1.52K  --.-KB/s    in 0s      \n",
      "\n",
      "2017-06-14 14:20:13 (8.03 MB/s) - ‘data/lists/dnssec_algorithm_numbers.csv’ saved [1559]\n",
      "\n"
     ]
    }
   ],
   "source": [
    "!wget https://www.iana.org/assignments/dns-sec-alg-numbers/dns-sec-alg-numbers-1.csv -O data/lists/dnssec_algorithm_numbers.csv\n",
    "reader = csv.reader(open('data/lists/dnssec_algorithm_numbers.csv', 'r'))"
   ]
  },
  {
   "cell_type": "code",
   "execution_count": 228,
   "metadata": {
    "collapsed": true
   },
   "outputs": [],
   "source": [
    "df_cred = pd.DataFrame(data_cred)"
   ]
  },
  {
   "cell_type": "code",
   "execution_count": 229,
   "metadata": {},
   "outputs": [],
   "source": [
    "algorithms = {}\n",
    "\n",
    "for row in reader:\n",
    "   k, _, v, _, _, _ = row\n",
    "   algorithms[k] = v"
   ]
  },
  {
   "cell_type": "code",
   "execution_count": 232,
   "metadata": {
    "collapsed": true
   },
   "outputs": [],
   "source": [
    "for algorithm_number in algorithms:\n",
    "    df_cred['algorithm'] = df_cred['algorithm'].replace(algorithm_number, algorithms[algorithm_number])"
   ]
  },
  {
   "cell_type": "code",
   "execution_count": 247,
   "metadata": {},
   "outputs": [
    {
     "data": {
      "image/png": "[encoded data removed]",
      "text/plain": [
       "<matplotlib.figure.Figure at 0x7fe5b31ccba8>"
      ]
     },
     "metadata": {},
     "output_type": "display_data"
    }
   ],
   "source": [
    "ax = df_cred.algorithm.value_counts().plot.pie(figsize = pie, autopct='%.2f')\n",
    "ax.set_ylabel(\"\")\n",
    "fig = ax.get_figure()\n",
    "fig.savefig(\"imgs/dnssec_algs.pdf\")"
   ]
  },
  {
   "cell_type": "code",
   "execution_count": 256,
   "metadata": {},
   "outputs": [],
   "source": [
    "dnssec_record_counts = [df_cred.loc[df_cred.dnskey == x].loc[df_cred.ds == y].count().tld \n",
    "                        for x in [True, False] for y in [True, False]]\n",
    "\n",
    "df_cred2 = pd.DataFrame(dnssec_record_counts, \n",
    "                        columns = ['dnssec_record_counts'],\n",
    "                        index = ['ds + dnskey', 'ds', 'dnskey', 'none'])"
   ]
  },
  {
   "cell_type": "code",
   "execution_count": 257,
   "metadata": {},
   "outputs": [
    {
     "data": {
      "image/png": "[encoded data removed]",
      "text/plain": [
       "<matplotlib.figure.Figure at 0x7fe5b312bda0>"
      ]
     },
     "metadata": {},
     "output_type": "display_data"
    }
   ],
   "source": [
    "df_cred2.dnssec_record_counts.plot.barh()\n",
    "ax.set_ylabel('Available records')\n",
    "ax.set_xlabel('Number of TLDs')\n",
    "fig = ax.get_figure()\n",
    "fig.tight_layout()\n",
    "fig.savefig(\"imgs/dnssec.pdf\")"
   ]
  },
  {
   "cell_type": "code",
   "execution_count": 258,
   "metadata": {},
   "outputs": [
    {
     "data": {
      "text/html": [
       "<div>\n",
       "<table border=\"1\" class=\"dataframe\">\n",
       "  <thead>\n",
       "    <tr style=\"text-align: right;\">\n",
       "      <th></th>\n",
       "      <th>algorithm</th>\n",
       "      <th>dnskey</th>\n",
       "      <th>ds</th>\n",
       "      <th>tld</th>\n",
       "    </tr>\n",
       "  </thead>\n",
       "  <tbody>\n",
       "    <tr>\n",
       "      <th>1448</th>\n",
       "      <td>None</td>\n",
       "      <td>False</td>\n",
       "      <td>True</td>\n",
       "      <td>XN--MGBAI9AZGQP6J</td>\n",
       "    </tr>\n",
       "  </tbody>\n",
       "</table>\n",
       "</div>"
      ],
      "text/plain": [
       "     algorithm dnskey    ds                tld\n",
       "1448      None  False  True  XN--MGBAI9AZGQP6J"
      ]
     },
     "execution_count": 258,
     "metadata": {},
     "output_type": "execute_result"
    }
   ],
   "source": [
    "df_cred.loc[df_cred.dnskey == False].loc[df_cred.ds]"
   ]
  },
  {
   "cell_type": "markdown",
   "metadata": {},
   "source": [
    "# Performance"
   ]
  },
  {
   "cell_type": "code",
   "execution_count": null,
   "metadata": {
    "collapsed": true
   },
   "outputs": [],
   "source": []
  }
 ],
 "metadata": {
  "kernelspec": {
   "display_name": "Python 3",
   "language": "python",
   "name": "python3"
  },
  "language_info": {
   "codemirror_mode": {
    "name": "ipython",
    "version": 3
   },
   "file_extension": ".py",
   "mimetype": "text/x-python",
   "name": "python",
   "nbconvert_exporter": "python",
   "pygments_lexer": "ipython3",
   "version": "3.6.1"
  }
 },
 "nbformat": 4,
 "nbformat_minor": 2
}
